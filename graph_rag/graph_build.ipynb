{
 "cells": [
  {
   "cell_type": "code",
   "execution_count": 1,
   "metadata": {},
   "outputs": [],
   "source": [
    "from neo4j import GraphDatabase\n",
    "import pandas as pd"
   ]
  },
  {
   "cell_type": "code",
   "execution_count": 2,
   "metadata": {},
   "outputs": [
    {
     "name": "stdout",
     "output_type": "stream",
     "text": [
      "neo4j\n"
     ]
    }
   ],
   "source": [
    "import os\n",
    "from dotenv import load_dotenv\n",
    "\n",
    "load_dotenv()\n",
    "\n",
    "NEO4J_URI = os.getenv(\"NEO4J_URI\")\n",
    "USERNAME = os.getenv(\"NEO4J_USERNAME\")\n",
    "PASSWORD = os.getenv(\"NEO4J_PASSWORD\")\n",
    "\n",
    "print(USERNAME)"
   ]
  },
  {
   "cell_type": "code",
   "execution_count": 3,
   "metadata": {},
   "outputs": [
    {
     "data": {
      "text/html": [
       "<div>\n",
       "<style scoped>\n",
       "    .dataframe tbody tr th:only-of-type {\n",
       "        vertical-align: middle;\n",
       "    }\n",
       "\n",
       "    .dataframe tbody tr th {\n",
       "        vertical-align: top;\n",
       "    }\n",
       "\n",
       "    .dataframe thead th {\n",
       "        text-align: right;\n",
       "    }\n",
       "</style>\n",
       "<table border=\"1\" class=\"dataframe\">\n",
       "  <thead>\n",
       "    <tr style=\"text-align: right;\">\n",
       "      <th></th>\n",
       "      <th>medicine_name</th>\n",
       "      <th>composition</th>\n",
       "      <th>uses</th>\n",
       "      <th>side_effects</th>\n",
       "      <th>manufacturer</th>\n",
       "      <th>chemical_class</th>\n",
       "      <th>habit_forming</th>\n",
       "      <th>therapeutic_class</th>\n",
       "      <th>action_class</th>\n",
       "      <th>substitutes</th>\n",
       "    </tr>\n",
       "  </thead>\n",
       "  <tbody>\n",
       "    <tr>\n",
       "      <th>10686</th>\n",
       "      <td>volibo 0 3 tablet</td>\n",
       "      <td>Voglibose (0.3mg)</td>\n",
       "      <td>Treatment of Type 2 diabetes mellitus</td>\n",
       "      <td>Skin rash Flatulence Abdominal pain Diarrhea</td>\n",
       "      <td>Sun Pharmaceutical Industries Ltd</td>\n",
       "      <td>Valiolamine derivative</td>\n",
       "      <td>No</td>\n",
       "      <td>ANTI DIABETIC</td>\n",
       "      <td>Alpha-glucosidase inhibitors</td>\n",
       "      <td>Vozuca Activ 0.3 Tablet, Voglit 0.3mg Tablet, ...</td>\n",
       "    </tr>\n",
       "    <tr>\n",
       "      <th>6630</th>\n",
       "      <td>olmetor 20 tablet</td>\n",
       "      <td>Olmesartan Medoxomil (20mg)</td>\n",
       "      <td>Hypertension (high blood pressure) Heart fail...</td>\n",
       "      <td>Cough Diarrhea Dizziness Flu like symptoms Hea...</td>\n",
       "      <td>Torrent Pharmaceuticals Ltd</td>\n",
       "      <td>Synthetic imidazole derivative</td>\n",
       "      <td>No</td>\n",
       "      <td>CARDIAC</td>\n",
       "      <td>Angiotensin receptor blockers(ARB)</td>\n",
       "      <td>Olmighty 20 Tablet, Olmetime 20 Tablet, Olsert...</td>\n",
       "    </tr>\n",
       "    <tr>\n",
       "      <th>2719</th>\n",
       "      <td>genticyn 80mg injection</td>\n",
       "      <td>Gentamicin (80mg)</td>\n",
       "      <td>Treatment of Bacterial infections</td>\n",
       "      <td>Hearing loss Kidney damage Balance disorder lo...</td>\n",
       "      <td>Abbott</td>\n",
       "      <td>Aminoglycosides</td>\n",
       "      <td>No</td>\n",
       "      <td>OPHTHAL OTOLOGICALS</td>\n",
       "      <td>Aminoglycosides</td>\n",
       "      <td>Germenta 80mg Injection, Gmi 80mg Injection, G...</td>\n",
       "    </tr>\n",
       "    <tr>\n",
       "      <th>1784</th>\n",
       "      <td>enam 5 tablet</td>\n",
       "      <td>Enalapril (5mg)</td>\n",
       "      <td>Treatment of Hypertension (high blood pressure...</td>\n",
       "      <td>Decreased blood pressure Cough Increased potas...</td>\n",
       "      <td>Dr Reddy's Laboratories Ltd</td>\n",
       "      <td>Dipeptides</td>\n",
       "      <td>No</td>\n",
       "      <td>CARDIAC</td>\n",
       "      <td>Angiotensin-converting enzyme (ACE) inhibitors</td>\n",
       "      <td>Enpril 5mg Tablet, Converten 5mg Tablet, Fribi...</td>\n",
       "    </tr>\n",
       "  </tbody>\n",
       "</table>\n",
       "</div>"
      ],
      "text/plain": [
       "                 medicine_name                  composition  \\\n",
       "10686        volibo 0 3 tablet            Voglibose (0.3mg)   \n",
       "6630         olmetor 20 tablet  Olmesartan Medoxomil (20mg)   \n",
       "2719   genticyn 80mg injection            Gentamicin (80mg)   \n",
       "1784             enam 5 tablet              Enalapril (5mg)   \n",
       "\n",
       "                                                    uses  \\\n",
       "10686              Treatment of Type 2 diabetes mellitus   \n",
       "6630    Hypertension (high blood pressure) Heart fail...   \n",
       "2719                   Treatment of Bacterial infections   \n",
       "1784   Treatment of Hypertension (high blood pressure...   \n",
       "\n",
       "                                            side_effects  \\\n",
       "10686       Skin rash Flatulence Abdominal pain Diarrhea   \n",
       "6630   Cough Diarrhea Dizziness Flu like symptoms Hea...   \n",
       "2719   Hearing loss Kidney damage Balance disorder lo...   \n",
       "1784   Decreased blood pressure Cough Increased potas...   \n",
       "\n",
       "                            manufacturer                  chemical_class  \\\n",
       "10686  Sun Pharmaceutical Industries Ltd          Valiolamine derivative   \n",
       "6630         Torrent Pharmaceuticals Ltd  Synthetic imidazole derivative   \n",
       "2719                              Abbott                 Aminoglycosides   \n",
       "1784         Dr Reddy's Laboratories Ltd                      Dipeptides   \n",
       "\n",
       "      habit_forming    therapeutic_class  \\\n",
       "10686            No        ANTI DIABETIC   \n",
       "6630             No              CARDIAC   \n",
       "2719             No  OPHTHAL OTOLOGICALS   \n",
       "1784             No              CARDIAC   \n",
       "\n",
       "                                         action_class  \\\n",
       "10686                    Alpha-glucosidase inhibitors   \n",
       "6630               Angiotensin receptor blockers(ARB)   \n",
       "2719                                  Aminoglycosides   \n",
       "1784   Angiotensin-converting enzyme (ACE) inhibitors   \n",
       "\n",
       "                                             substitutes  \n",
       "10686  Vozuca Activ 0.3 Tablet, Voglit 0.3mg Tablet, ...  \n",
       "6630   Olmighty 20 Tablet, Olmetime 20 Tablet, Olsert...  \n",
       "2719   Germenta 80mg Injection, Gmi 80mg Injection, G...  \n",
       "1784   Enpril 5mg Tablet, Converten 5mg Tablet, Fribi...  "
      ]
     },
     "execution_count": 3,
     "metadata": {},
     "output_type": "execute_result"
    }
   ],
   "source": [
    "import pandas as pd\n",
    "df = pd.read_csv(\"cleaned_medicine_data.csv\")\n",
    "\n",
    "df.sample(4)"
   ]
  },
  {
   "cell_type": "code",
   "execution_count": 4,
   "metadata": {},
   "outputs": [],
   "source": [
    "driver = GraphDatabase.driver(NEO4J_URI, auth=(USERNAME, PASSWORD))"
   ]
  },
  {
   "cell_type": "code",
   "execution_count": 5,
   "metadata": {},
   "outputs": [],
   "source": [
    "# Function to insert medicine data into the graph\n",
    "def create_medicine_graph(tx, row):\n",
    "    # Handle NaN values by replacing them with a placeholder or skipping them\n",
    "    medicine_name = row[\"medicine_name\"] if pd.notna(row[\"medicine_name\"]) else \"Unknown\"\n",
    "    composition = row[\"composition\"] if pd.notna(row[\"composition\"]) else \"Unknown\"\n",
    "    uses = row[\"uses\"] if pd.notna(row[\"uses\"]) else \"Unknown\"\n",
    "    side_effects = row[\"side_effects\"] if pd.notna(row[\"side_effects\"]) else \"Unknown\"\n",
    "    manufacturer = row[\"manufacturer\"] if pd.notna(row[\"manufacturer\"]) else \"Unknown\"\n",
    "    chemical_class = row[\"chemical_class\"] if pd.notna(row[\"chemical_class\"]) else \"Unknown\"\n",
    "    therapeutic_class = row[\"therapeutic_class\"] if pd.notna(row[\"therapeutic_class\"]) else \"Unknown\"\n",
    "    action_class = row[\"action_class\"] if pd.notna(row[\"action_class\"]) else \"Unknown\"\n",
    "    substitutes = row[\"substitutes\"] if pd.notna(row[\"substitutes\"]) else \"Unknown\"\n",
    "\n",
    "    # Cypher query to insert or merge nodes and relationships\n",
    "    query = \"\"\"\n",
    "    MERGE (m:Medicine {name: $medicine_name})\n",
    "    SET m.composition = $composition\n",
    "    MERGE (u:UseCase {name: $uses})\n",
    "    MERGE (s:SideEffect {name: $side_effects})\n",
    "    MERGE (mf:Manufacturer {name: $manufacturer})\n",
    "    MERGE (cc:ChemicalClass {name: $chemical_class})\n",
    "    MERGE (tc:TherapeuticClass {name: $therapeutic_class})\n",
    "    MERGE (ac:ActionClass {name: $action_class})\n",
    "    MERGE (sub:Substitute {name: $substitutes})\n",
    "    \n",
    "    MERGE (m)-[:TREATS]->(u)\n",
    "    MERGE (m)-[:HAS_SIDE_EFFECT]->(s)\n",
    "    MERGE (m)-[:MANUFACTURED_BY]->(mf)\n",
    "    MERGE (m)-[:BELONGS_TO]->(cc)\n",
    "    MERGE (m)-[:HAS_THERAPEUTIC_CLASS]->(tc)\n",
    "    MERGE (m)-[:HAS_ACTION_CLASS]->(ac)\n",
    "    MERGE (m)-[:HAS_SUBSTITUTE]->(sub)\n",
    "    \"\"\"\n",
    "    \n",
    "    # Run the query with cleaned data\n",
    "    tx.run(query, \n",
    "           medicine_name=medicine_name, \n",
    "           composition=composition, \n",
    "           uses=uses, \n",
    "           side_effects=side_effects, \n",
    "           manufacturer=manufacturer, \n",
    "           chemical_class=chemical_class, \n",
    "           therapeutic_class=therapeutic_class, \n",
    "           action_class=action_class, \n",
    "           substitutes=substitutes)\n"
   ]
  },
  {
   "cell_type": "code",
   "execution_count": 6,
   "metadata": {},
   "outputs": [
    {
     "name": "stderr",
     "output_type": "stream",
     "text": [
      "C:\\Users\\aksha\\AppData\\Local\\Temp\\ipykernel_21872\\3413950902.py:3: DeprecationWarning: write_transaction has been renamed to execute_write\n",
      "  session.write_transaction(create_medicine_graph, row)\n"
     ]
    },
    {
     "name": "stdout",
     "output_type": "stream",
     "text": [
      "Drug Knowledge Graph successfully created in Neo4j!\n"
     ]
    }
   ],
   "source": [
    "with driver.session() as session:\n",
    "    for _, row in df.iterrows():\n",
    "        session.write_transaction(create_medicine_graph, row)\n",
    "\n",
    "print(\"Drug Knowledge Graph successfully created in Neo4j!\")"
   ]
  }
 ],
 "metadata": {
  "kernelspec": {
   "display_name": "venv88",
   "language": "python",
   "name": "python3"
  },
  "language_info": {
   "codemirror_mode": {
    "name": "ipython",
    "version": 3
   },
   "file_extension": ".py",
   "mimetype": "text/x-python",
   "name": "python",
   "nbconvert_exporter": "python",
   "pygments_lexer": "ipython3",
   "version": "3.9.11"
  }
 },
 "nbformat": 4,
 "nbformat_minor": 2
}
